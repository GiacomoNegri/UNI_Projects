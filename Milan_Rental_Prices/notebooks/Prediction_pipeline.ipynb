{
 "cells": [
  {
   "cell_type": "markdown",
   "id": "b8274df2-8f14-41d8-a767-f060b7ee06fd",
   "metadata": {
    "id": "uywFwUd2we-A"
   },
   "source": [
    "# Importing libraries"
   ]
  },
  {
   "cell_type": "code",
   "execution_count": 2,
   "id": "e745679f-c044-4785-8e48-ff2555cb44cf",
   "metadata": {
    "executionInfo": {
     "elapsed": 3904,
     "status": "ok",
     "timestamp": 1746958278138,
     "user": {
      "displayName": "Giacomo Negri",
      "userId": "14779197913857683755"
     },
     "user_tz": -120
    },
    "id": "aHmZaFWPwe-B"
   },
   "outputs": [],
   "source": [
    "import pandas as pd\n",
    "import numpy as np\n",
    "import seaborn as sns\n",
    "import matplotlib.pyplot as plt\n",
    "import string\n",
    "import re\n",
    "import time\n",
    "from datetime import datetime\n",
    "from tqdm import tqdm\n",
    "import joblib\n",
    "\n",
    "from geopy.geocoders import Nominatim\n",
    "from geopy.extra.rate_limiter import RateLimiter\n",
    "\n",
    "from sklearn.preprocessing import MultiLabelBinarizer\n",
    "from sklearn.ensemble import RandomForestRegressor\n",
    "from sklearn.model_selection import train_test_split, KFold, ParameterGrid, cross_val_score\n",
    "from sklearn.metrics import mean_absolute_error, mean_squared_error, r2_score, make_scorer, mean_absolute_error\n",
    "from sklearn.linear_model import ElasticNetCV\n",
    "from sklearn.ensemble import StackingRegressor\n",
    "\n",
    "import xgboost as xgb\n",
    "import lightgbm as lgb"
   ]
  },
  {
   "cell_type": "markdown",
   "id": "02c08f09-847c-4e78-b32f-f78b7bdb5890",
   "metadata": {
    "id": "yi2HGw_awe-B"
   },
   "source": [
    "# Loading the datasets"
   ]
  },
  {
   "cell_type": "code",
   "execution_count": 3,
   "id": "4229d540-9a2c-4d60-b632-d42ea4e082a5",
   "metadata": {
    "executionInfo": {
     "elapsed": 975,
     "status": "ok",
     "timestamp": 1746958279119,
     "user": {
      "displayName": "Giacomo Negri",
      "userId": "14779197913857683755"
     },
     "user_tz": -120
    },
    "id": "PwF5Wl2Iwe-B"
   },
   "outputs": [],
   "source": [
    "df_train=pd.read_csv('dataset/train.csv')\n",
    "df_test=pd.read_csv('dataset/test.csv')"
   ]
  },
  {
   "cell_type": "code",
   "execution_count": 4,
   "id": "6c0552cb-02b6-4c98-b34a-78c35881991f",
   "metadata": {
    "executionInfo": {
     "elapsed": 9,
     "status": "ok",
     "timestamp": 1746958279130,
     "user": {
      "displayName": "Giacomo Negri",
      "userId": "14779197913857683755"
     },
     "user_tz": -120
    },
    "id": "BrsUhnHyyfXZ"
   },
   "outputs": [],
   "source": [
    "dataset=[df_train.copy(),df_test.copy()]"
   ]
  },
  {
   "cell_type": "markdown",
   "id": "1f2606be-f91b-4f5e-b7e6-8640aaf378b2",
   "metadata": {
    "id": "6KFmfRnBenHt"
   },
   "source": [
    "# Unstructured Columns Transformation"
   ]
  },
  {
   "cell_type": "markdown",
   "id": "06637418-5310-4120-b8db-9c9edabf1afa",
   "metadata": {
    "id": "svziz6B8g1IA"
   },
   "source": [
    "## Description"
   ]
  },
  {
   "cell_type": "code",
   "execution_count": 5,
   "id": "8c0ed55d-f44e-4c03-9ced-9d7c93fcbdea",
   "metadata": {
    "executionInfo": {
     "elapsed": 25,
     "status": "ok",
     "timestamp": 1746958279157,
     "user": {
      "displayName": "Giacomo Negri",
      "userId": "14779197913857683755"
     },
     "user_tz": -120
    },
    "id": "o61LTa8Ih4Zh"
   },
   "outputs": [],
   "source": [
    "for df in dataset:\n",
    "  df['description_list']=df['description'].str.split(', ', regex=False)"
   ]
  },
  {
   "cell_type": "code",
   "execution_count": 6,
   "id": "44fdbe9a-7694-4a3e-a220-a7b448aff511",
   "metadata": {
    "executionInfo": {
     "elapsed": 14,
     "status": "ok",
     "timestamp": 1746958279173,
     "user": {
      "displayName": "Giacomo Negri",
      "userId": "14779197913857683755"
     },
     "user_tz": -120
    },
    "id": "Igmb74GQg22M"
   },
   "outputs": [],
   "source": [
    "def extract_structured_info(desc_list):\n",
    "    total_rooms = None\n",
    "    bedrooms = 0\n",
    "    bathrooms = 0\n",
    "    other_rooms = 0\n",
    "    kitchen_type = 'none'\n",
    "    accessible_bathroom = 0\n",
    "\n",
    "    for item in desc_list:\n",
    "        item = item.strip().lower()\n",
    "\n",
    "        # Total rooms (standard or 5+ format)\n",
    "        match_total = re.match(r'(\\d+)\\s*\\(', item) or re.match(r'(\\d+)\\s+rooms?', item)\n",
    "        match_total_plus = re.match(r'(\\d+)\\+\\s*\\(', item)\n",
    "\n",
    "        if match_total:\n",
    "            total_rooms = int(match_total.group(1))\n",
    "        elif match_total_plus:\n",
    "            total_rooms = int(match_total_plus.group(1))  # interpret \"5+\" as 5\n",
    "\n",
    "        # Bedrooms (even inside parentheses)\n",
    "        match_bed = re.search(r'(\\d+)\\s+bedrooms?', item)\n",
    "        if match_bed:\n",
    "            bedrooms += int(match_bed.group(1))\n",
    "\n",
    "        # Bathrooms (standard + accessible)\n",
    "        match_bath = re.match(r'(\\d+)\\s+bathrooms?', item)\n",
    "        if match_bath:\n",
    "            bathrooms += int(match_bath.group(1))\n",
    "        elif \"1 bathroom\" in item:\n",
    "            bathrooms += 1\n",
    "\n",
    "        if \"suitable for disabled\" in item:\n",
    "            accessible_bathroom = 1\n",
    "\n",
    "        # Other rooms\n",
    "        match_other = re.search(r'(\\d+)\\s+others?\\)?', item)\n",
    "        if match_other:\n",
    "            other_rooms += int(match_other.group(1))\n",
    "        elif \"1 other\" in item:\n",
    "            other_rooms += 1\n",
    "\n",
    "        # Kitchen type\n",
    "        if \"open kitchen\" in item:\n",
    "            kitchen_type = \"open\"\n",
    "        elif \"kitchen nook\" in item:\n",
    "            kitchen_type = \"nook\"\n",
    "        elif \"semi-habitable kitchen\" in item:\n",
    "            kitchen_type = \"semi\"\n",
    "        elif \"kitchenette\" in item:\n",
    "            kitchen_type = \"ette\"\n",
    "        elif \"kitchen diner\" in item:\n",
    "            kitchen_type = \"diner\"\n",
    "\n",
    "    return pd.Series([total_rooms, bedrooms, other_rooms, bathrooms, kitchen_type, accessible_bathroom])"
   ]
  },
  {
   "cell_type": "code",
   "execution_count": 7,
   "id": "5b2fb225-51f3-404c-8872-3d194821691e",
   "metadata": {
    "executionInfo": {
     "elapsed": 1061,
     "status": "ok",
     "timestamp": 1746958280235,
     "user": {
      "displayName": "Giacomo Negri",
      "userId": "14779197913857683755"
     },
     "user_tz": -120
    },
    "id": "P82TIQHAhAFS"
   },
   "outputs": [],
   "source": [
    "for df in dataset:\n",
    "  df[['total_rooms', 'bedrooms', 'other_rooms', 'bathrooms', 'kitchen_type', 'accessible_bathroom']] = df['description_list'].apply(extract_structured_info)"
   ]
  },
  {
   "cell_type": "markdown",
   "id": "ad972177-84d7-482e-a915-c8deda4e5543",
   "metadata": {
    "id": "OOdoq_D0iBqT"
   },
   "source": [
    "Filling the number of total rooms if empty"
   ]
  },
  {
   "cell_type": "code",
   "execution_count": 8,
   "id": "593c6100-6461-42c1-aec0-02f65921e651",
   "metadata": {
    "executionInfo": {
     "elapsed": 28,
     "status": "ok",
     "timestamp": 1746958280269,
     "user": {
      "displayName": "Giacomo Negri",
      "userId": "14779197913857683755"
     },
     "user_tz": -120
    },
    "id": "fZbI_r6miBVy"
   },
   "outputs": [],
   "source": [
    "for df in dataset:\n",
    "  df['total_rooms'] = df['total_rooms'].fillna(\n",
    "    df[['bedrooms', 'other_rooms', 'bathrooms']].sum(axis=1)\n",
    "    )"
   ]
  },
  {
   "cell_type": "markdown",
   "id": "dffe2213-bb58-4752-9806-f22b6935216c",
   "metadata": {
    "id": "jQqyJpzGjCtL"
   },
   "source": [
    "## Others features"
   ]
  },
  {
   "cell_type": "code",
   "execution_count": 9,
   "id": "476f8c21-64ab-4cc2-874f-be4a65100cd6",
   "metadata": {
    "executionInfo": {
     "elapsed": 8,
     "status": "ok",
     "timestamp": 1746958280274,
     "user": {
      "displayName": "Giacomo Negri",
      "userId": "14779197913857683755"
     },
     "user_tz": -120
    },
    "id": "1EcWoR4eer8s"
   },
   "outputs": [],
   "source": [
    "for df in dataset:\n",
    "  df['other_features_list'] = df['other_features'].str.split(' | ', regex=False)"
   ]
  },
  {
   "cell_type": "code",
   "execution_count": 10,
   "id": "67afbd76-709d-411f-a37e-e905fa14388b",
   "metadata": {
    "executionInfo": {
     "elapsed": 32,
     "status": "ok",
     "timestamp": 1746958280351,
     "user": {
      "displayName": "Giacomo Negri",
      "userId": "14779197913857683755"
     },
     "user_tz": -120
    },
    "id": "8nEWwgk2fr5c"
   },
   "outputs": [],
   "source": [
    "# Ensure all entries are lists (replace non-lists with empty list)\n",
    "for df in dataset:\n",
    "  df['other_features_list'] = df['other_features_list'].apply(\n",
    "      lambda x: x if isinstance(x, list) else []\n",
    "  )\n",
    "  oth_features_set = {\n",
    "      feat\n",
    "      for feature_list in df['other_features_list']\n",
    "      for feat in feature_list\n",
    "  }"
   ]
  },
  {
   "cell_type": "markdown",
   "id": "beb6c4f5-3142-4f45-84b7-b821a7c82546",
   "metadata": {
    "id": "O4wnPQ48bjWf"
   },
   "source": [
    "### Text transformation"
   ]
  },
  {
   "cell_type": "code",
   "execution_count": 11,
   "id": "6eeff561-de1b-4f83-bb3b-d506a7e297d4",
   "metadata": {
    "executionInfo": {
     "elapsed": 37,
     "status": "ok",
     "timestamp": 1746958280364,
     "user": {
      "displayName": "Giacomo Negri",
      "userId": "14779197913857683755"
     },
     "user_tz": -120
    },
    "id": "MS8qo0cXbisi"
   },
   "outputs": [],
   "source": [
    "for df in dataset:\n",
    "  mlb = MultiLabelBinarizer()\n",
    "  feature_dummies = pd.DataFrame(\n",
    "      mlb.fit_transform(df['other_features_list']),\n",
    "      columns=mlb.classes_,\n",
    "      index=df.index\n",
    "  )"
   ]
  },
  {
   "cell_type": "code",
   "execution_count": 12,
   "id": "bcdfff67-f5fd-4e4d-82dd-6948f6472490",
   "metadata": {
    "executionInfo": {
     "elapsed": 221,
     "status": "ok",
     "timestamp": 1746958280579,
     "user": {
      "displayName": "Giacomo Negri",
      "userId": "14779197913857683755"
     },
     "user_tz": -120
    },
    "id": "7-jOohV1fhw1"
   },
   "outputs": [],
   "source": [
    "macro_feature_map = {\n",
    "    # 1. FURNISHING\n",
    "    'furnished': 'furnishing',\n",
    "    'partially furnished': 'furnishing',\n",
    "    'only kitchen furnished': 'furnishing',\n",
    "    'kitchen': 'furnishing',\n",
    "\n",
    "    # 2. SECURITY\n",
    "    'security door': 'security',\n",
    "    'electric gate': 'security',\n",
    "    'alarm system': 'security',\n",
    "    'video entryphone': 'security',\n",
    "\n",
    "    # 3. TV / INTERNET\n",
    "    'centralized tv system': 'tv_internet',\n",
    "    'single tv system': 'tv_internet',\n",
    "    'tv system with satellite dish': 'tv_internet',\n",
    "    'optic fiber': 'tv_internet',\n",
    "\n",
    "    # 4. OUTDOOR SPACES\n",
    "    'balcony': 'outdoor_space',\n",
    "    '3 balconies': 'outdoor_space',\n",
    "    'terrace': 'outdoor_space',\n",
    "    'private garden': 'outdoor_space',\n",
    "    'shared garden': 'outdoor_space',\n",
    "    'private and shared garden': 'outdoor_space',\n",
    "\n",
    "    # 5. CONCIERGE\n",
    "    'full day concierge': 'concierge',\n",
    "    'half-day concierge': 'concierge',\n",
    "    'reception': 'concierge',\n",
    "    'reception1 balcony': 'concierge',\n",
    "\n",
    "    # 6. STORAGE / ROOMS\n",
    "    'closet': 'storage',\n",
    "    'cellar': 'storage',\n",
    "    'attic': 'storage',\n",
    "    'tavern': 'storage',\n",
    "\n",
    "    # 7. WINDOWS\n",
    "    'window frames in double glass / wood': 'windows',\n",
    "    'window frames in double glass / pvc': 'windows',\n",
    "    'window frames in glass / metal': 'windows',\n",
    "    'window frames in double glass / pvcdouble exposure': 'windows',\n",
    "    'window frames in double glass / metal': 'windows',\n",
    "    'window frames in glass / wood': 'windows',\n",
    "    'window frames in glass / pvc': 'windows',\n",
    "    'window frames in triple glass / wood': 'windows',\n",
    "    'window frames in triple glass / pvc': 'windows',\n",
    "    'window frames in triple glass / metal': 'windows',\n",
    "    'window frames in glass / pvcdouble exposure': 'windows',\n",
    "    'window frames in triple glass / pvcdouble exposure': 'windows',\n",
    "    'window frames in double glass / pvcexposure south': 'windows',\n",
    "    'window frames in double glass / pvcexposure east': 'windows',\n",
    "    'window frames in double glass / pvcexposure north': 'windows',\n",
    "    'window frames in double glass / pvcexposure south, east': 'windows',\n",
    "    'window frames in double glass / pvcexposure east, west': 'windows',\n",
    "    'window frames in double glass / pvcexposure north, south': 'windows',\n",
    "    'window frames in double glass / pvcexposure west': 'windows',\n",
    "    'window frames in triple glass / pvcexposure south': 'windows',\n",
    "    'window frames in double glass / pvcexposure south, west': 'windows',\n",
    "    'window frames in glass / pvcexposure east': 'windows',\n",
    "    'window frames in glass / pvcexposure west': 'windows',\n",
    "    'window frames in double glass / pvcexposure north, west': 'windows',\n",
    "    'window frames in double glass / pvcexposure south, east, west': 'windows',\n",
    "    'window frames in glass / pvcexposure north, south': 'windows',\n",
    "    'window frames in double glass / pvcexposure north, south, east': 'windows',\n",
    "    'window frames in double glass / pvcexposure north, east, west': 'windows',\n",
    "    'window frames in glass / pvcexposure south, east, west': 'windows',\n",
    "    'window frames in glass / pvcexposure north, south, west': 'windows',\n",
    "    'window frames in glass / pvcexposure north': 'windows',\n",
    "    'window frames in glass / pvcexposure east, west': 'windows',\n",
    "    'window frames in glass / pvcexposure south': 'windows',\n",
    "    'window frames in triple glass / pvcexposure east, west': 'windows',\n",
    "    'window frames in triple glass / pvcexposure south, east': 'windows',\n",
    "\n",
    "    # 8. EXPOSURE\n",
    "    'internal exposure': 'exposure',\n",
    "    'external exposure': 'exposure',\n",
    "    'double exposure': 'exposure',\n",
    "    'exposure south': 'exposure',\n",
    "    'exposure east': 'exposure',\n",
    "    'exposure west': 'exposure',\n",
    "    'exposure north': 'exposure',\n",
    "    'exposure east, west': 'exposure',\n",
    "    'exposure north, south': 'exposure',\n",
    "    'exposure south, east': 'exposure',\n",
    "    'exposure south, west': 'exposure',\n",
    "    'exposure north, west': 'exposure',\n",
    "    'exposure north, east': 'exposure',\n",
    "    'exposure north, south, east, west': 'exposure',\n",
    "    'exposure north, south, west': 'exposure',\n",
    "    'exposure north, south, east': 'exposure',\n",
    "    'exposure north, east, west': 'exposure',\n",
    "\n",
    "    # 9. LUXURY / AMENITIES\n",
    "    'fireplace': 'luxury',\n",
    "    'hydromassage': 'luxury',\n",
    "    'pool': 'luxury',\n",
    "    'tennis court': 'luxury',\n",
    "}"
   ]
  },
  {
   "cell_type": "code",
   "execution_count": 13,
   "id": "89ead6fc-02ab-49da-927e-f5bbcc48f285",
   "metadata": {
    "executionInfo": {
     "elapsed": 10,
     "status": "ok",
     "timestamp": 1746958280592,
     "user": {
      "displayName": "Giacomo Negri",
      "userId": "14779197913857683755"
     },
     "user_tz": -120
    },
    "id": "tLt7TBqNfmYb"
   },
   "outputs": [],
   "source": [
    "def aggregate_macro_features(feature_list, mapping):\n",
    "    if not isinstance(feature_list, list):\n",
    "        return []\n",
    "    return list({mapping.get(f, None) for f in feature_list if mapping.get(f, '')})\n",
    "\n",
    "for df in dataset:\n",
    "  # Apply the macro feature mapping to your DataFrame\n",
    "  df['macro_features'] = df['other_features_list'].apply(\n",
    "      lambda feats: aggregate_macro_features(feats, macro_feature_map)\n",
    "  )"
   ]
  },
  {
   "cell_type": "markdown",
   "id": "b7228502-03ae-48f0-bc7b-a393d67b7c02",
   "metadata": {
    "id": "S2xBnGQPrfj3"
   },
   "source": [
    "### Top features of `other_features`"
   ]
  },
  {
   "cell_type": "code",
   "execution_count": 14,
   "id": "ac6f6b41-ee6c-4907-9839-86e6000fb856",
   "metadata": {
    "executionInfo": {
     "elapsed": 19,
     "status": "ok",
     "timestamp": 1746958280604,
     "user": {
      "displayName": "Giacomo Negri",
      "userId": "14779197913857683755"
     },
     "user_tz": -120
    },
    "id": "J_Ryv2ufriTg"
   },
   "outputs": [],
   "source": [
    "feature_groups = {\n",
    "    'top_furnishing': {'closet', 'partially furnished'},\n",
    "    'top_security': {'security door', 'video entryphone', 'alarm system'},\n",
    "    'top_tv_system': {'centralized tv system'},\n",
    "    'top_fiber': {'optic fiber'},\n",
    "    'top_concierge': {'full day concierge', 'half-day concierge', 'reception'},\n",
    "    'top_garden': {'shared garden', 'private garden'},\n",
    "    'top_balcony': {'balcony', 'terrace'},\n",
    "    'top_kitchen': {'kitchen', 'only kitchen furnished'},\n",
    "    'luxury':{'fireplace','hydromassage','pool','tennis court'}\n",
    "}\n",
    "\n",
    "# Create dummy columns\n",
    "for df in dataset:\n",
    "  for col_name, keywords in feature_groups.items():\n",
    "      df[col_name] = df['other_features_list'].apply(\n",
    "          lambda features: int(any(item in features for item in keywords))\n",
    "      )"
   ]
  },
  {
   "cell_type": "markdown",
   "id": "20b0effd-0278-4959-abdd-58e0cd29fd82",
   "metadata": {
    "id": "AqKvZf-htVWR"
   },
   "source": [
    "### Transforming the `macro_features`"
   ]
  },
  {
   "cell_type": "code",
   "execution_count": 15,
   "id": "78b7b29b-d02a-4d5e-bc3a-c2a089145544",
   "metadata": {
    "executionInfo": {
     "elapsed": 3,
     "status": "ok",
     "timestamp": 1746958280757,
     "user": {
      "displayName": "Giacomo Negri",
      "userId": "14779197913857683755"
     },
     "user_tz": -120
    },
    "id": "o-7nDmqEtYpC"
   },
   "outputs": [],
   "source": [
    "# List of macro_features to track\n",
    "macro_features_list = ['furnishing', 'security', 'tv_internet', 'outdoor_space', 'concierge', 'storage', 'windows', 'exposure', 'luxury']\n",
    "\n",
    "# Iterate over each feature in the list and create a new column in the DataFrame\n",
    "for df in dataset:\n",
    "  for feature in macro_features_list:\n",
    "      df[feature] = df['macro_features'].apply(lambda x: x.count(feature) if isinstance(x, list) else 0)"
   ]
  },
  {
   "cell_type": "markdown",
   "id": "c64ab7ba-5c16-4e9c-83b4-e5c43913fc6f",
   "metadata": {
    "id": "9O7I8g2hXEn4"
   },
   "source": [
    "# Structured Column Transformation "
   ]
  },
  {
   "cell_type": "code",
   "execution_count": 16,
   "id": "7d47b591-ef5c-4fb1-920d-3d0d85db6384",
   "metadata": {
    "executionInfo": {
     "elapsed": 1,
     "status": "ok",
     "timestamp": 1746958280764,
     "user": {
      "displayName": "Giacomo Negri",
      "userId": "14779197913857683755"
     },
     "user_tz": -120
    },
    "id": "VvS46TtXXJYV"
   },
   "outputs": [],
   "source": [
    "for df in dataset:\n",
    "  df['energy_efficiency_class'] = df['energy_efficiency_class'].replace(',', 'g')"
   ]
  },
  {
   "cell_type": "markdown",
   "id": "954c5bea-52c2-4986-9de5-6b606e962c21",
   "metadata": {
    "id": "Vi0U0SPVYBF3"
   },
   "source": [
    "## Zone's Mapping"
   ]
  },
  {
   "cell_type": "code",
   "execution_count": 17,
   "id": "2ac0bd09-934b-4921-9589-982454c2f15a",
   "metadata": {
    "executionInfo": {
     "elapsed": 1,
     "status": "ok",
     "timestamp": 1746958280766,
     "user": {
      "displayName": "Giacomo Negri",
      "userId": "14779197913857683755"
     },
     "user_tz": -120
    },
    "id": "Q4KtBnRIYEMh"
   },
   "outputs": [],
   "source": [
    "zone_mapping = {\n",
    "    # milano_centro\n",
    "    'arco_della_pace': 'milano_centro',\n",
    "    'arena': 'milano_centro',\n",
    "    'brera': 'milano_centro',\n",
    "    'borgogna_largo_augusto': 'milano_centro',\n",
    "    'cadorna_castello': 'milano_centro',\n",
    "    'carrobbio': 'milano_centro',\n",
    "    'duomo': 'milano_centro',\n",
    "    'guastalla': 'milano_centro',\n",
    "    'lanza': 'milano_centro',\n",
    "    'missori': 'milano_centro',\n",
    "    'moscova': 'milano_centro',\n",
    "    'navigli_darsena': 'milano_centro',\n",
    "    'palestro': 'milano_centro',\n",
    "    'paolo_sarpi': 'milano_centro',\n",
    "    'quadrilatero_della_moda': 'milano_centro',\n",
    "    'san_vittore': 'milano_centro',\n",
    "    'san_babila': 'milano_centro',\n",
    "    'scala_manzoni': 'milano_centro',\n",
    "    'sempione': 'milano_centro',\n",
    "    'vincenzo_monti': 'milano_centro',\n",
    "    'quadronno_crocetta':'milano_centro',\n",
    "    'turati': 'milano_centro',\n",
    "\n",
    "    # milano_nord_est\n",
    "    'buenos_aires': 'milano_nord_est',\n",
    "    'bignami_ponale': 'milano_nord_est',\n",
    "    'cascina_dei_pomi': 'milano_nord_est',\n",
    "    'casoretto': 'milano_nord_est',\n",
    "    'cimiano': 'milano_nord_est',\n",
    "    'centrale': 'milano_nord_est',\n",
    "    'città_studi': 'milano_nord_est',\n",
    "    'crescenzago':'milano_nord_est',\n",
    "    'dezza': 'milano_nord_est',\n",
    "    'greco_segnano': 'milano_nord_est',\n",
    "    'gorla': 'milano_nord_est',\n",
    "    'istria': 'milano_nord_est',\n",
    "    'indipendenza':'milano_nord_est',\n",
    "    'lambrate': 'milano_nord_est',\n",
    "    'maggiolina': 'milano_nord_est',\n",
    "    'melchiorre_gioia': 'milano_nord_est',\n",
    "    'morgagni': 'milano_nord_est',\n",
    "    'ortica': 'milano_nord_est',\n",
    "    'repubblica': 'milano_nord_est',\n",
    "    'parco_trotter': 'milano_nord_est',\n",
    "    'pasteur': 'milano_nord_est',\n",
    "    'plebisciti_susa': 'milano_nord_est',\n",
    "    'piave_tricolore': 'milano_nord_est',\n",
    "    'porta_venezia':'milano_nord_est',\n",
    "    'precotto': 'milano_nord_est',\n",
    "    'ponte_nuovo':'milano_nord_est',\n",
    "    'quartiere_adriano': 'milano_nord_est',\n",
    "    'quartiere_feltre': 'milano_nord_est',\n",
    "    'rovereto':  'milano_nord_est',\n",
    "    'rubattino': 'milano_nord_est',\n",
    "    'turro': 'milano_nord_est',\n",
    "    'villa_san_giovanni': 'milano_nord_est',\n",
    "    'zara': 'milano_nord_est',\n",
    "\n",
    "    # milano_nord_ovest\n",
    "    'affori': 'milano_nord_ovest',\n",
    "    'bicocca': 'milano_nord_ovest',\n",
    "    'bovisa': 'milano_nord_ovest',\n",
    "    'bruzzano': 'milano_nord_ovest',\n",
    "    'ca_granda': 'milano_nord_ovest',\n",
    "    'cascina_merlata_musocco': 'milano_nord_ovest',\n",
    "    'cenisio': 'milano_nord_ovest',\n",
    "    'certosa': 'milano_nord_ovest',\n",
    "    'city_life': 'milano_nord_ovest',\n",
    "    'comasina': 'milano_nord_ovest',\n",
    "    'dergano': 'milano_nord_ovest',\n",
    "    'farini': 'milano_nord_ovest',\n",
    "    'ghisolfa_mac_mahon': 'milano_nord_ovest',\n",
    "    'gallaratese': 'milano_nord_ovest',\n",
    "    'garibaldi_corso_como': 'milano_nord_ovest',\n",
    "    'isola': 'milano_nord_ovest',\n",
    "    'monte_rosa_lotto': 'milano_nord_ovest',\n",
    "    'niguarda': 'milano_nord_ovest',\n",
    "    'porta_nuova': 'milano_nord_ovest',\n",
    "    'prato_centenaro': 'milano_nord_ovest',\n",
    "    'qt8': 'milano_nord_ovest',\n",
    "    'quarto_oggiaro': 'milano_nord_ovest',\n",
    "    'trenno': 'milano_nord_ovest',\n",
    "    'san_carlo':'milano_nord_ovest',\n",
    "    'udine':'milano_nord_ovest',\n",
    "\n",
    "    # milano_sud_est\n",
    "    'argonne_corsica': 'milano_sud_est',\n",
    "    'bologna_sulmona': 'milano_sud_est',\n",
    "    'bocconi': 'milano_sud_ovest',\n",
    "    'cadore': 'milano_sud_est',\n",
    "    'cantalupa_san_paolo': 'milano_sud_est',\n",
    "    'chiesa_rossa': 'milano_sud_est',\n",
    "    'corvetto': 'milano_sud_est',\n",
    "    'famagosta': 'milano_sud_est',\n",
    "    'gratosoglio': 'milano_sud_est',\n",
    "    'martini_insubria': 'milano_sud_est',\n",
    "    'molise_cuoco': 'milano_sud_est',\n",
    "    'montenero': 'milano_sud_est',\n",
    "    'lodi_brenta': 'milano_sud_est',\n",
    "    'pezzotti_meda': 'milano_sud_est',\n",
    "    'ponte_lambro': 'milano_sud_est',\n",
    "    'porta_romana_medaglie_doro': 'milano_sud_est',\n",
    "    'porta_vittoria': 'milano_sud_est',\n",
    "    'portello_parco_vittoria': 'milano_nord_ovest',\n",
    "    'quartiere_forlanini': 'milano_sud_est',\n",
    "    'ripamonti': 'milano_sud_est',\n",
    "    'rogoredo': 'milano_sud_est',\n",
    "    'santa_giulia': 'milano_sud_est',\n",
    "    'vigentino_fatima': 'milano_sud_est',\n",
    "    'viale_ungheria_mecenate': 'milano_sud_est',\n",
    "\n",
    "    # milano_sud_ovest\n",
    "    'amendola_buonarroti': 'milano_sud_ovest',\n",
    "    'ascanio_sforza': 'milano_sud_ovest',\n",
    "    'baggio': 'milano_sud_ovest',\n",
    "    'bagno': 'milano_sud_ovest',\n",
    "    'barona': 'milano_sud_ovest',\n",
    "    'bande_nere': 'milano_sud_ovest',\n",
    "    'bisceglie': 'milano_sud_ovest',\n",
    "    'cermenate_abbiategrasso': 'milano_sud_ovest',\n",
    "    'corso_genova': 'milano_sud_ovest',\n",
    "    'corso_san_gottardo': 'milano_sud_ovest',\n",
    "    'de_angeli': 'milano_sud_ovest',\n",
    "    'frua': 'milano_sud_ovest',\n",
    "    'giambellino': 'milano_sud_ovest',\n",
    "    'gambara': 'milano_sud_ovest',\n",
    "    'inganni': 'milano_sud_ovest',\n",
    "    'lorenteggio': 'milano_sud_ovest',\n",
    "    'pagano:': 'milano_sud_ovest',\n",
    "    'piazza_napoli': 'milano_sud_ovest',\n",
    "    'piazzale_siena': 'milano_sud_ovest',\n",
    "    'primaticcio': 'milano_sud_ovest',\n",
    "    'quarto_cagnino': 'milano_sud_ovest',\n",
    "    'san_siro': 'milano_sud_ovest',\n",
    "    'santambrogio':'milano_sud_ovest',\n",
    "    'solari': 'milano_sud_ovest',\n",
    "    'tre_castelli_faenza': 'milano_sud_ovest',\n",
    "    'ticinese': 'milano_sud_ovest',\n",
    "    'tripoli_soderini': 'milano_sud_ovest',\n",
    "    'vercelli_wagner': 'milano_sud_ovest',\n",
    "    'washington': 'milano_sud_ovest'\n",
    "}\n"
   ]
  },
  {
   "cell_type": "markdown",
   "id": "b1413906-6835-4178-a4ae-1e22aa6346fb",
   "metadata": {},
   "source": [
    "## Large Geo-coding"
   ]
  },
  {
   "cell_type": "code",
   "execution_count": 18,
   "id": "a7e6f731-28af-4b2c-a6e1-29546f7e9ed6",
   "metadata": {},
   "outputs": [],
   "source": [
    "# df_geo = pd.DataFrame({\n",
    "#     'zone_key': list(zone_mapping.keys()),\n",
    "#     'macro_area': list(zone_mapping.values())\n",
    "# })\n",
    "\n",
    "# geolocator = Nominatim(user_agent=\"my_milan_geocoder\")\n",
    "# geocode = RateLimiter(geolocator.geocode, min_delay_seconds=1, max_retries=2)\n",
    "\n",
    "# def make_query(zone):\n",
    "#     name = zone.replace(\"_\", \" \")\n",
    "#     return f\"{name}, Milano, Italy\"\n",
    "\n",
    "# latitudes = []\n",
    "# longitudes = []\n",
    "# for zone in df_geo['zone_key']:\n",
    "#     loc = geocode(make_query(zone))\n",
    "#     if loc:\n",
    "#         latitudes.append(loc.latitude)\n",
    "#         longitudes.append(loc.longitude)\n",
    "#     else:\n",
    "#         latitudes.append(None)\n",
    "#         longitudes.append(None)\n",
    "\n",
    "# df_geo['latitude']  = latitudes\n",
    "# df_geo['longitude'] = longitudes\n",
    "\n",
    "# # df.to_csv(\"milan_zones_geocoded.csv\", index=True)"
   ]
  },
  {
   "cell_type": "markdown",
   "id": "ba64a2cc-279a-4ec1-8acc-86ec00f9ec49",
   "metadata": {},
   "source": [
    "## Pre-process of zones"
   ]
  },
  {
   "cell_type": "code",
   "execution_count": 19,
   "id": "15149442-8c92-4f73-b922-892f7c81f0be",
   "metadata": {
    "executionInfo": {
     "elapsed": 127,
     "status": "ok",
     "timestamp": 1746958280895,
     "user": {
      "displayName": "Giacomo Negri",
      "userId": "14779197913857683755"
     },
     "user_tz": -120
    },
    "id": "VHuRYkcQV6wQ"
   },
   "outputs": [],
   "source": [
    "def preprocess_text(text):\n",
    "    text = text.lower()\n",
    "    text = text.replace(' - ', ' ')\n",
    "    text = text.replace(\"'\", \"\")\n",
    "\n",
    "    translator = str.maketrans('', '', string.punctuation)\n",
    "    text = text.translate(translator)\n",
    "\n",
    "    text = text.replace(' ', '_')\n",
    "\n",
    "    return text"
   ]
  },
  {
   "cell_type": "markdown",
   "id": "34fd0263-b152-4abe-817c-0436144af505",
   "metadata": {},
   "source": [
    "## Preprocessing multiple columns"
   ]
  },
  {
   "cell_type": "code",
   "execution_count": 20,
   "id": "ee45f570-957c-4349-a2d9-07889683951a",
   "metadata": {
    "executionInfo": {
     "elapsed": 21,
     "status": "ok",
     "timestamp": 1746958280896,
     "user": {
      "displayName": "Giacomo Negri",
      "userId": "14779197913857683755"
     },
     "user_tz": -120
    },
    "id": "5boaNb6vZQXb"
   },
   "outputs": [],
   "source": [
    "def preprocess_data(df_train, df_test):\n",
    "    # Combine train and test temporarily for consistent processing\n",
    "    df_all = pd.concat([df_train, df_test], keys=[\"train\", \"test\"])\n",
    "\n",
    "    # 1. Fill missing values\n",
    "    df_all['availability'] = df_all['availability'].fillna('available')\n",
    "    df_all['conditions'] = df_all['conditions'].fillna('excellent')\n",
    "    df_all['condominium_fees'] = df_all['condominium_fees'].fillna(0.00)\n",
    "    df_all['other_features'] = df_all['other_features'].fillna(' ')\n",
    "\n",
    "    # Fill 'energy_efficiency_class' by mode within each zone\n",
    "    zone_energy_mode = df_all.groupby('zone')['energy_efficiency_class'].agg(lambda x: x.mode().iloc[0] if not x.mode().empty else None)\n",
    "    df_all['energy_efficiency_class'] = df_all.apply(\n",
    "        lambda row: zone_energy_mode[row['zone']] if pd.isna(row['energy_efficiency_class']) else row['energy_efficiency_class'],\n",
    "        axis=1\n",
    "    )\n",
    "\n",
    "    # Replace string \"nan\" in 'floor' with the most frequent floor\n",
    "    most_freq_floor = df_all['floor'].replace(\"nan\", pd.NA).mode()[0]\n",
    "    df_all['floor'] = df_all['floor'].replace(\"nan\", pd.NA).fillna(most_freq_floor)\n",
    "\n",
    "    # 2. One-hot encode 'contract_type'\n",
    "    df_all = pd.get_dummies(df_all, columns=['contract_type'], drop_first=True)\n",
    "\n",
    "    # 3. Encode 'energy_efficiency_class' as ordered category\n",
    "    energy_order = ['g', 'f', 'e', 'd', 'c', 'b', 'a']  # You may adjust this order\n",
    "    df_all['energy_efficiency_class'] = pd.Categorical(\n",
    "        df_all['energy_efficiency_class'], categories=energy_order, ordered=True\n",
    "    ).codes\n",
    "\n",
    "    df_all['zone']=df_all['zone'].apply(preprocess_text)\n",
    "    df_all['macro_zone']=df_all['zone'].map(zone_mapping)\n",
    "    df_all=pd.get_dummies(df_all,columns=['energy_efficiency_class'],drop_first=True)\n",
    "    df_all=pd.get_dummies(df_all,columns=['macro_zone'],drop_first=True)\n",
    "\n",
    "    # Separate back into train and test\n",
    "    df_train_processed = df_all.loc[\"train\"].copy()\n",
    "    df_test_processed = df_all.loc[\"test\"].copy()\n",
    "\n",
    "    return df_train_processed, df_test_processed"
   ]
  },
  {
   "cell_type": "markdown",
   "id": "dec1587a-845e-442b-9ed7-03bf3a1bb56f",
   "metadata": {
    "id": "nHrUoIW3YCsK"
   },
   "source": [
    "## Computing the cleaned version"
   ]
  },
  {
   "cell_type": "code",
   "execution_count": 21,
   "id": "0df56f6f-2c08-46c4-84e1-dc4bd686315e",
   "metadata": {
    "colab": {
     "base_uri": "https://localhost:8080/"
    },
    "executionInfo": {
     "elapsed": 68,
     "status": "ok",
     "timestamp": 1746958280951,
     "user": {
      "displayName": "Giacomo Negri",
      "userId": "14779197913857683755"
     },
     "user_tz": -120
    },
    "id": "_DUfOTWvbElr",
    "outputId": "18ecc7d2-8cbb-4c3c-b594-91e83e779fb7"
   },
   "outputs": [
    {
     "name": "stdout",
     "output_type": "stream",
     "text": [
      "(4500, 53) (2834, 53)\n"
     ]
    }
   ],
   "source": [
    "clean_train, clean_test=preprocess_data(dataset[0], dataset[1])\n",
    "print(clean_train.shape,clean_test.shape)"
   ]
  },
  {
   "cell_type": "markdown",
   "id": "d5a14297-b1a0-4291-b8a0-e7689c138bf1",
   "metadata": {},
   "source": [
    "## Adding latitude and longitude"
   ]
  },
  {
   "cell_type": "code",
   "execution_count": 22,
   "id": "b21390be-a284-454c-9523-b22a90106d6d",
   "metadata": {},
   "outputs": [],
   "source": [
    "# coordinates=df_geo.copy()\n",
    "coordinates=pd.read_excel('dataset/milan_zones_geocoded.xlsx')"
   ]
  },
  {
   "cell_type": "code",
   "execution_count": 23,
   "id": "1a8a24f6-82b1-4179-bca5-95ed71c8e3ba",
   "metadata": {},
   "outputs": [],
   "source": [
    "clean_train['zone']=clean_train['zone'].replace('città_studi','citta_studi')\n",
    "clean_test['zone']=clean_test['zone'].replace('città_studi','citta_studi')"
   ]
  },
  {
   "cell_type": "code",
   "execution_count": 24,
   "id": "36e7ed85-d62e-4ce5-9236-18cd99eb2c16",
   "metadata": {},
   "outputs": [],
   "source": [
    "clean_train = clean_train.merge(coordinates, right_on='zone_key', left_on='zone',how='left')\n",
    "clean_test = clean_test.merge(coordinates, right_on='zone_key', left_on='zone', how='left')"
   ]
  },
  {
   "cell_type": "code",
   "execution_count": 25,
   "id": "c0916f8a-8db5-45da-a20a-d17cbcb448ee",
   "metadata": {},
   "outputs": [],
   "source": [
    "clean_train.drop(columns=['zone_key'], inplace=True)\n",
    "clean_test.drop(columns=['zone_key'], inplace=True)"
   ]
  },
  {
   "cell_type": "markdown",
   "id": "b6a12720-e5e4-4ff0-8484-1b91280514f6",
   "metadata": {},
   "source": [
    "## Transforming floor, elevator, and condominium fee dummy"
   ]
  },
  {
   "cell_type": "code",
   "execution_count": 26,
   "id": "8f1dc01f-d6f2-437d-b7bc-e49ec2f392c9",
   "metadata": {
    "executionInfo": {
     "elapsed": 3,
     "status": "ok",
     "timestamp": 1746958280965,
     "user": {
      "displayName": "Giacomo Negri",
      "userId": "14779197913857683755"
     },
     "user_tz": -120
    },
    "id": "WF_tRvmuT-rX"
   },
   "outputs": [],
   "source": [
    "floor_map = {\n",
    "    'Semi-basement': -1,\n",
    "    'Mezzanine': 0.5,\n",
    "    'Ground floor': 0,\n",
    "    '1': 1, '2': 2, '3': 3, '4': 4,\n",
    "    '5': 5, '6': 6, '7': 7, '8': 8, '9': 9\n",
    "}\n",
    "\n",
    "clean_train['floor'] = clean_train['floor'].map(floor_map).astype(float)\n",
    "clean_train['elevator']= clean_train['elevator'].map({'yes':1,'no':0})\n",
    "clean_train['high_floor_no_elevator'] = ((clean_train['floor'] >= 3) & (clean_train['elevator'] == 0)).astype(int)\n",
    "\n",
    "clean_test['floor'] = clean_test['floor'].map(floor_map).astype(float)\n",
    "clean_test['elevator']= clean_test['elevator'].map({'yes':1,'no':0})\n",
    "clean_test['high_floor_no_elevator'] = ((clean_test['floor'] >= 3) & (clean_test['elevator'] == 0)).astype(int)"
   ]
  },
  {
   "cell_type": "code",
   "execution_count": 27,
   "id": "5b69b0d5-5377-4e5d-ba29-e4d3ad156f52",
   "metadata": {},
   "outputs": [],
   "source": [
    "clean_train['have_condo_fees']=np.where(clean_train['condominium_fees']>0,1,0)\n",
    "clean_test['have_condo_fees']=np.where(clean_test['condominium_fees']>0,1,0)"
   ]
  },
  {
   "cell_type": "markdown",
   "id": "dab1df52-945c-4e2e-9fc0-6a2db865864e",
   "metadata": {
    "id": "N1aCS9gLhhOf"
   },
   "source": [
    "# Filtering Columns"
   ]
  },
  {
   "cell_type": "code",
   "execution_count": 28,
   "id": "5b651b5f-1d2f-4fa7-93f1-57e475639779",
   "metadata": {
    "executionInfo": {
     "elapsed": 6,
     "status": "ok",
     "timestamp": 1746958280972,
     "user": {
      "displayName": "Giacomo Negri",
      "userId": "14779197913857683755"
     },
     "user_tz": -120
    },
    "id": "8wwsgmBLhgk1"
   },
   "outputs": [],
   "source": [
    "columns_to_keep=['y', 'square_meters', 'floor', 'elevator', 'high_floor_no_elevator',\n",
    "                           'conditions','have_condo_fees',\n",
    "                           'total_rooms', 'bedrooms', 'other_rooms','bathrooms', 'kitchen_type', 'accessible_bathroom',\n",
    "                           'top_furnishing', 'top_security', 'top_tv_system', 'top_fiber', 'top_concierge',\n",
    "                           'top_garden', 'top_balcony', 'top_kitchen', 'luxury', 'furnishing', 'security',\n",
    "                           'tv_internet', 'outdoor_space', 'concierge', 'storage', 'windows', 'exposure',\n",
    "                           'energy_efficiency_class_1', 'energy_efficiency_class_2', 'energy_efficiency_class_3',\n",
    "                           'energy_efficiency_class_4', 'energy_efficiency_class_5', 'energy_efficiency_class_6',\n",
    "                           'condominium_fees', 'zone', 'contract_type_rent | 3+2', 'contract_type_rent | 4+4',\n",
    "                           'contract_type_rent | 6+6', 'contract_type_rent | open',\n",
    "                           'contract_type_rent | students (6 - 36 months)', 'contract_type_rent | transitory',\n",
    "                           'macro_zone_milano_nord_est', 'macro_zone_milano_nord_ovest',\n",
    "                           'macro_zone_milano_sud_est', 'macro_zone_milano_sud_ovest','macro_area', 'latitude','longitude']\n",
    "filtered_df=clean_train[columns_to_keep]\n",
    "filtered_test=clean_test[columns_to_keep]"
   ]
  },
  {
   "cell_type": "code",
   "execution_count": 29,
   "id": "379e1efd-09d8-4f29-bf2b-3f94c97ac806",
   "metadata": {
    "executionInfo": {
     "elapsed": 33,
     "status": "ok",
     "timestamp": 1746958281004,
     "user": {
      "displayName": "Giacomo Negri",
      "userId": "14779197913857683755"
     },
     "user_tz": -120
    },
    "id": "wHCcTZEXjcZV"
   },
   "outputs": [],
   "source": [
    "fil_dataset=[filtered_df.copy(),filtered_test.copy()]"
   ]
  },
  {
   "cell_type": "markdown",
   "id": "cbb93673-28e2-453e-9579-336d1c1455ab",
   "metadata": {},
   "source": [
    "## Encoding of zones"
   ]
  },
  {
   "cell_type": "code",
   "execution_count": 30,
   "id": "e47b1979-ddac-4cf5-83c3-5a34c539d99c",
   "metadata": {
    "colab": {
     "base_uri": "https://localhost:8080/"
    },
    "executionInfo": {
     "elapsed": 11,
     "status": "ok",
     "timestamp": 1746958281020,
     "user": {
      "displayName": "Giacomo Negri",
      "userId": "14779197913857683755"
     },
     "user_tz": -120
    },
    "id": "aEvb38wZSCNg",
    "outputId": "37ae62ac-160a-4b8c-e3e0-b52e74f28cbd"
   },
   "outputs": [],
   "source": [
    "zone_mean_price = filtered_df.groupby('zone')['y'].mean()\n",
    "\n",
    "for df in fil_dataset:\n",
    "  df.loc[:,'zone_encoded'] = df['zone'].map(zone_mean_price)"
   ]
  },
  {
   "cell_type": "code",
   "execution_count": 31,
   "id": "184c5cdd-6d3a-4203-9c23-bd449af5e8a0",
   "metadata": {
    "executionInfo": {
     "elapsed": 9,
     "status": "ok",
     "timestamp": 1746958281027,
     "user": {
      "displayName": "Giacomo Negri",
      "userId": "14779197913857683755"
     },
     "user_tz": -120
    },
    "id": "0-8S1Zhsj4ab"
   },
   "outputs": [],
   "source": [
    "for df in fil_dataset:\n",
    "  kitchen_dummies = pd.get_dummies(df['kitchen_type'], prefix='kitchen')\n",
    "  df = pd.concat([df, kitchen_dummies], axis=1)"
   ]
  },
  {
   "cell_type": "code",
   "execution_count": 32,
   "id": "ef04254d-4adf-405e-b50a-2070b6f68e69",
   "metadata": {
    "colab": {
     "base_uri": "https://localhost:8080/"
    },
    "executionInfo": {
     "elapsed": 8,
     "status": "ok",
     "timestamp": 1746958281030,
     "user": {
      "displayName": "Giacomo Negri",
      "userId": "14779197913857683755"
     },
     "user_tz": -120
    },
    "id": "3rAxH7GKkHc_",
    "outputId": "96e11416-7aaf-4ef2-aa2d-7764ece2a095"
   },
   "outputs": [],
   "source": [
    "conditions_map = {\n",
    "    'good condition': 1,\n",
    "    'excellent': 2,\n",
    "    'new': 3\n",
    "}\n",
    "for df in fil_dataset:\n",
    "  df['conditions_encoded'] = df['conditions'].map(conditions_map)"
   ]
  },
  {
   "cell_type": "code",
   "execution_count": 33,
   "id": "ae279a0d-74ae-4aa3-b3f3-477adf952f39",
   "metadata": {},
   "outputs": [],
   "source": [
    "filtered_df=fil_dataset[0].copy()\n",
    "filtered_test=fil_dataset[1].copy()"
   ]
  },
  {
   "cell_type": "code",
   "execution_count": 34,
   "id": "cde0e1c7-801c-4f7c-8b04-689cd711c871",
   "metadata": {
    "colab": {
     "base_uri": "https://localhost:8080/"
    },
    "executionInfo": {
     "elapsed": 17,
     "status": "ok",
     "timestamp": 1746958281069,
     "user": {
      "displayName": "Giacomo Negri",
      "userId": "14779197913857683755"
     },
     "user_tz": -120
    },
    "id": "evOCfdcXmnc4",
    "outputId": "5e90b8bc-65ca-4be9-e8e8-de646af3cd14"
   },
   "outputs": [],
   "source": [
    "filtered_df.drop(columns=['kitchen_type'], inplace=True)\n",
    "filtered_test.drop(columns=['kitchen_type'], inplace=True)\n",
    "\n",
    "filtered_df.drop(columns=['zone'], inplace=True)\n",
    "filtered_test.drop(columns=['zone'], inplace=True)\n",
    "\n",
    "filtered_df.drop(columns=['conditions'], inplace=True)\n",
    "filtered_test.drop(columns=['conditions'], inplace=True)\n",
    "\n",
    "filtered_df.drop(columns=['macro_area'], inplace=True)\n",
    "filtered_test.drop(columns=['macro_area'], inplace=True)"
   ]
  },
  {
   "cell_type": "markdown",
   "id": "015e1e4c-78ad-4bfe-b00c-14380a2f0f86",
   "metadata": {},
   "source": [
    "## logarithmic Transformation"
   ]
  },
  {
   "cell_type": "code",
   "execution_count": 35,
   "id": "af280a34-200c-4918-aee8-f4129e114207",
   "metadata": {},
   "outputs": [],
   "source": [
    "filtered_df.loc[:,'y'] = np.log1p(filtered_df['y'])"
   ]
  },
  {
   "cell_type": "code",
   "execution_count": 36,
   "id": "8bc38021-9d07-40ad-99a7-fbadc17aa371",
   "metadata": {},
   "outputs": [],
   "source": [
    "filtered_df.loc[:, 'condominium_fees'] = np.log1p(filtered_df['condominium_fees'])\n",
    "filtered_test.loc[:, 'condominium_fees'] = np.log1p(filtered_test['condominium_fees'])"
   ]
  },
  {
   "cell_type": "code",
   "execution_count": 37,
   "id": "e9cb82a3-b92a-4b2c-8600-ea57aad9adad",
   "metadata": {},
   "outputs": [],
   "source": [
    "filtered_df.to_csv('dataset/filtered_df.csv')\n",
    "filtered_test.to_csv('dataset/filtered_test.csv')"
   ]
  },
  {
   "cell_type": "markdown",
   "id": "996e0f7d-a152-437a-8be2-d344c5bbba31",
   "metadata": {
    "id": "WyyA3SpPjuoj"
   },
   "source": [
    "# Model"
   ]
  },
  {
   "cell_type": "code",
   "execution_count": 38,
   "id": "2aeb3919-04d6-47a6-aaf5-2491536a5107",
   "metadata": {
    "colab": {
     "base_uri": "https://localhost:8080/"
    },
    "executionInfo": {
     "elapsed": 5,
     "status": "ok",
     "timestamp": 1746958281107,
     "user": {
      "displayName": "Giacomo Negri",
      "userId": "14779197913857683755"
     },
     "user_tz": -120
    },
    "id": "knZ6rIXbNyzS",
    "outputId": "0e8733aa-12cf-49c6-e9c2-7e521a71e546"
   },
   "outputs": [],
   "source": [
    "filtered_test.drop(columns=['y'],inplace=True)"
   ]
  },
  {
   "cell_type": "code",
   "execution_count": 39,
   "id": "df0fa400-a840-406f-a745-21c11ba188cf",
   "metadata": {
    "executionInfo": {
     "elapsed": 10,
     "status": "ok",
     "timestamp": 1746958281118,
     "user": {
      "displayName": "Giacomo Negri",
      "userId": "14779197913857683755"
     },
     "user_tz": -120
    },
    "id": "ItoVG2zM1yPg"
   },
   "outputs": [],
   "source": [
    "X_train = filtered_df.drop(columns=['y']).copy()\n",
    "y_train = filtered_df['y'].copy()"
   ]
  },
  {
   "cell_type": "code",
   "execution_count": 40,
   "id": "24d7c95a-9862-46e7-9cb7-0c45812b14fd",
   "metadata": {},
   "outputs": [],
   "source": [
    "X_train.columns = X_train.columns.str.replace(' ', '_')\n",
    "filtered_test.columns = filtered_test.columns.str.replace(' ', '_')"
   ]
  },
  {
   "cell_type": "markdown",
   "id": "c27c5f3d-c617-4cc7-b299-e4cf94e6db94",
   "metadata": {},
   "source": [
    "## Model estimation"
   ]
  },
  {
   "cell_type": "code",
   "execution_count": 41,
   "id": "86743f86-4005-4e96-9b7b-f41bbab2313f",
   "metadata": {},
   "outputs": [],
   "source": [
    "xgb_model = xgb.XGBRegressor(\n",
    "    objective='reg:squarederror',\n",
    "    random_state=42,\n",
    "    tree_method='hist',\n",
    "    enable_categorical=False,\n",
    "    n_jobs=-1,\n",
    "    # --- tuning parameters\n",
    "    n_estimators=4600,\n",
    "    learning_rate=0.0085,\n",
    "    max_depth=8,\n",
    "    subsample=0.8,\n",
    "    colsample_bytree=0.8,\n",
    "    reg_alpha=0.01,\n",
    "    reg_lambda=0.0\n",
    ")\n",
    "\n",
    "lgb_model = lgb.LGBMRegressor(\n",
    "    boosting_type='gbdt',\n",
    "    objective='regression',\n",
    "    random_state=42,\n",
    "    verbose=-1,\n",
    "    n_jobs=-1,\n",
    "    # --- tuning parameters\n",
    "    n_estimators=4600,\n",
    "    learning_rate=0.008,\n",
    "    num_leaves=63,\n",
    "    subsample=0.8,\n",
    "    colsample_bytree=0.8,\n",
    "    reg_alpha=0.0,\n",
    "    reg_lambda=0.01\n",
    ")"
   ]
  },
  {
   "cell_type": "code",
   "execution_count": 42,
   "id": "a70a7120-d671-4792-9dc0-6fcd745badc5",
   "metadata": {},
   "outputs": [
    {
     "data": {
      "text/plain": [
       "['FINAL_lgb_final.joblib']"
      ]
     },
     "execution_count": 42,
     "metadata": {},
     "output_type": "execute_result"
    }
   ],
   "source": [
    "xgb_model.fit(X_train, y_train)\n",
    "lgb_model.fit(X_train, y_train)\n",
    "\n",
    "joblib.dump(xgb_model, \"FINAL_xgb_final.joblib\")\n",
    "joblib.dump(lgb_model, \"FINAL_lgb_final.joblib\")"
   ]
  },
  {
   "cell_type": "markdown",
   "id": "0a47bee4-5e36-45ee-8224-0fd217f6722c",
   "metadata": {},
   "source": [
    "## Stack"
   ]
  },
  {
   "cell_type": "markdown",
   "id": "6dd96e34-af95-4166-8953-02408be96cb3",
   "metadata": {},
   "source": [
    "### Meta-Learner"
   ]
  },
  {
   "cell_type": "code",
   "execution_count": 43,
   "id": "781984cf-67b8-4555-99d5-af9e80840867",
   "metadata": {},
   "outputs": [],
   "source": [
    "meta_learner = ElasticNetCV(\n",
    "    l1_ratio=[.005],\n",
    "    alphas=[.0004641588833612782],\n",
    "    cv=10,\n",
    "    random_state=42\n",
    ")"
   ]
  },
  {
   "cell_type": "code",
   "execution_count": 44,
   "id": "2700395d-c0f2-44b4-a671-ae3a0e134572",
   "metadata": {},
   "outputs": [],
   "source": [
    "stack = StackingRegressor(\n",
    "    estimators=[\n",
    "        ('xgb',  xgb_model),\n",
    "        ('lgb',  lgb_model)\n",
    "    ],\n",
    "    final_estimator=meta_learner,\n",
    "    cv=KFold(n_splits=10, shuffle=True, random_state=42),\n",
    "    n_jobs=-1,\n",
    "    passthrough=False\n",
    ")"
   ]
  },
  {
   "cell_type": "code",
   "execution_count": 45,
   "id": "6ea216a3-657a-42d9-ab9c-f553aa8b533f",
   "metadata": {},
   "outputs": [],
   "source": [
    "stack.fit(X_train, y_train)\n",
    "y_pred_test = stack.predict(filtered_test)\n",
    "\n",
    "y_pred_test_normal = np.expm1(y_pred_test)"
   ]
  },
  {
   "cell_type": "code",
   "execution_count": 46,
   "id": "e075a14d-0aea-4d49-b9e7-1905460942bb",
   "metadata": {},
   "outputs": [
    {
     "name": "stdout",
     "output_type": "stream",
     "text": [
      "Chosen alpha: 0.0004641588833612782\n",
      "Chosen l1_ratio: 0.005\n"
     ]
    }
   ],
   "source": [
    "fitted_meta_learner = stack.final_estimator_\n",
    "\n",
    "print(f\"Chosen alpha: {fitted_meta_learner.alpha_}\")\n",
    "print(f\"Chosen l1_ratio: {fitted_meta_learner.l1_ratio_}\")"
   ]
  },
  {
   "cell_type": "markdown",
   "id": "8a8e7f82-f9f8-4a3d-adfa-997ad2825b8f",
   "metadata": {},
   "source": [
    "# Saving results"
   ]
  },
  {
   "cell_type": "code",
   "execution_count": 47,
   "id": "207488ad-07b5-4b1c-875e-f4da6977af8c",
   "metadata": {},
   "outputs": [],
   "source": [
    "today_str = str(datetime.now().isoformat(timespec='seconds').replace(':', '-'))\n",
    "\n",
    "with open(f'RESULTS/FINAL_predicted_rent_prices_{today_str}.txt', 'w') as f:\n",
    "    for value in y_pred_test_normal:\n",
    "        f.write(f\"{value}\\n\")"
   ]
  },
  {
   "cell_type": "code",
   "execution_count": 48,
   "id": "3484bd03-388d-42b1-92f4-6f943bb2312d",
   "metadata": {},
   "outputs": [
    {
     "data": {
      "text/plain": [
       "['MODELS/2025-05-21T14-56-21_FINAL_stacking_model.pkl']"
      ]
     },
     "execution_count": 48,
     "metadata": {},
     "output_type": "execute_result"
    }
   ],
   "source": [
    "joblib.dump(stack, f'MODELS/{today_str}_FINAL_stacking_model.pkl')"
   ]
  },
  {
   "cell_type": "markdown",
   "id": "ccfa34dd-c81d-4095-94bf-d9bb47db2c60",
   "metadata": {},
   "source": [
    "## Stack Graphs"
   ]
  },
  {
   "cell_type": "code",
   "execution_count": 57,
   "id": "07ad050a-ef27-4fbe-862e-9d8a5b1b0bb9",
   "metadata": {},
   "outputs": [
    {
     "name": "stdout",
     "output_type": "stream",
     "text": [
      "ElasticNet blend:   ŷ = 0.600·XGB  +  0.389·LGB  +  0.079\n"
     ]
    }
   ],
   "source": [
    "# Fit stack on full data\n",
    "stack.fit(X_train, y_train)\n",
    "\n",
    "# meta_learner is an ElasticNet; get coefficients\n",
    "coefs = stack.final_estimator_.coef_\n",
    "intercept = stack.final_estimator_.intercept_\n",
    "\n",
    "print(f\"ElasticNet blend:   ŷ = {coefs[0]:.3f}·XGB  +  {coefs[1]:.3f}·LGB  +  {intercept:.3f}\")"
   ]
  },
  {
   "cell_type": "code",
   "execution_count": 58,
   "id": "2773f36f-ade5-4f2c-b262-ceee3ef6b0c0",
   "metadata": {},
   "outputs": [
    {
     "data": {
      "image/png": "[encoded data removed]",
      "text/plain": [
       "<Figure size 640x480 with 1 Axes>"
      ]
     },
     "metadata": {},
     "output_type": "display_data"
    }
   ],
   "source": [
    "plt.bar([\"XGB\", \"LGB\"], coefs, color=[\"steelblue\", \"seagreen\"])\n",
    "plt.ylabel(\"ElasticNet coefficient\")\n",
    "plt.title(\"Stack meta-learner weights\")\n",
    "plt.ylim(0, max(coefs)*1.1)\n",
    "plt.show()"
   ]
  },
  {
   "cell_type": "code",
   "execution_count": 59,
   "id": "5fe5d6b6-7aec-4c54-b4ad-76c9a0c54930",
   "metadata": {},
   "outputs": [],
   "source": [
    "# from sklearn.inspection import permutation_importance\n",
    "\n",
    "# stack.fit(X_train, y_train)\n",
    "\n",
    "# r = permutation_importance(\n",
    "#         stack, X_train, y_train,\n",
    "#         n_repeats=10, scoring=\"neg_mean_absolute_error\",\n",
    "#         random_state=42, n_jobs=-1)\n",
    "\n",
    "# imp_df = (pd.DataFrame({\"feature\": X_train.columns,\n",
    "#                         \"importance\": r.importances_mean})\n",
    "#             .sort_values(\"importance\", ascending=False))\n",
    "\n",
    "# plt.barh(imp_df.feature[:25][::-1], imp_df.importance[:25][::-1])\n",
    "# plt.xlabel(\"↓ MAE when permuted\")\n",
    "# plt.title(\"Permutation importance – full stack\")\n",
    "# plt.tight_layout(); plt.show()\n"
   ]
  }
 ],
 "metadata": {
  "kernelspec": {
   "display_name": "Python 3 (ipykernel)",
   "language": "python",
   "name": "python3"
  },
  "language_info": {
   "codemirror_mode": {
    "name": "ipython",
    "version": 3
   },
   "file_extension": ".py",
   "mimetype": "text/x-python",
   "name": "python",
   "nbconvert_exporter": "python",
   "pygments_lexer": "ipython3",
   "version": "3.12.7"
  }
 },
 "nbformat": 4,
 "nbformat_minor": 5
}
